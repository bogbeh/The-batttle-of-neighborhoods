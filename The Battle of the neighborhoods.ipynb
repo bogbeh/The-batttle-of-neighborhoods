{
    "nbformat_minor": 1, 
    "cells": [
        {
            "source": "## A description of the problem and a discussion of the background.", 
            "cell_type": "markdown", 
            "metadata": {
                "collapsed": true
            }
        }, 
        {
            "source": "Mishelle's Company sent her on a job to Abuja, Nigeria and have reserved an accomodation for her at the Hilton Hotels and Resort. She is currently on a fittness challenge and would like to see it through. The problem is to locate a gym fairly close to Mishelle, and which has standard facilities.", 
            "cell_type": "markdown", 
            "metadata": {}
        }, 
        {
            "source": "## A description of how to solve the problem", 
            "cell_type": "markdown", 
            "metadata": {}
        }, 
        {
            "source": "First of all, we import the necessary libraries that we need to solve the solve the problem such as numpy, pamdas, follium, requests... We would be calling on foursquare APIs.\nNext we use geocode to find the address the Hilton Hotels and Resorts on the map (i.e; its longlitude and latitude) after defining our foursquare credentials ofcourse. Then we search for nearby gyms, and recomend the gym with the most ratings to Mishelle, giving her its location.", 
            "cell_type": "markdown", 
            "metadata": {}
        }, 
        {
            "source": "##### Importing Libraries", 
            "cell_type": "markdown", 
            "metadata": {}
        }, 
        {
            "execution_count": 1, 
            "cell_type": "code", 
            "metadata": {}, 
            "outputs": [
                {
                    "output_type": "stream", 
                    "name": "stdout", 
                    "text": "Fetching package metadata .............\nSolving package specifications: .\n\n# All requested packages already installed.\n# packages in environment at /opt/conda/envs/DSX-Python35:\n#\ngeopy                     1.17.0                     py_0    conda-forge\nFetching package metadata .............\nSolving package specifications: .\n\n# All requested packages already installed.\n# packages in environment at /opt/conda/envs/DSX-Python35:\n#\nfolium                    0.5.0                      py_0    conda-forge\nFolium installed\nLibraries imported.\n"
                }
            ], 
            "source": "!conda install -c conda-forge geopy --yes \nfrom geopy.geocoders import Nominatim # module to convert an address into latitude and longitude values\nimport requests # library to handle requests\nimport pandas as pd # library for data analsysis\nimport numpy as np # library to handle data in a vectorized manner\nimport random # library for random number generation\n\n# libraries for displaying images\nfrom IPython.display import Image \nfrom IPython.core.display import HTML \n    \n# tranforming json file into a pandas dataframe library\nfrom pandas.io.json import json_normalize\n\n!conda install -c conda-forge folium=0.5.0 --yes\nimport folium # plotting library\n\nprint('Folium installed')\nprint('Libraries imported.')"
        }, 
        {
            "source": "##### We now define our foursquare credentials", 
            "cell_type": "markdown", 
            "metadata": {}
        }, 
        {
            "execution_count": 2, 
            "cell_type": "code", 
            "metadata": {}, 
            "outputs": [
                {
                    "output_type": "stream", 
                    "name": "stdout", 
                    "text": "Your credentails:\nCLIENT_ID: SKY2YBFEUQBP02SSF0VJKFSIBNVJLOAN142JND1AJ2RU0VFC\nCLIENT_SECRET:OZB1WLGWPZNAODYSHSTYGPESUBCILV0HN00QZE4LRPYYK0D1\n"
                }
            ], 
            "source": "CLIENT_ID = 'SKY2YBFEUQBP02SSF0VJKFSIBNVJLOAN142JND1AJ2RU0VFC' # your Foursquare ID\nCLIENT_SECRET = 'OZB1WLGWPZNAODYSHSTYGPESUBCILV0HN00QZE4LRPYYK0D1' # your Foursquare Secret\nVERSION = '20180604'\nLIMIT = 30\nprint('Your credentails:')\nprint('CLIENT_ID: ' + CLIENT_ID)\nprint('CLIENT_SECRET:' + CLIENT_SECRET)"
        }, 
        {
            "source": "##### Getting the Latitude and Longitude values of the Hilton Hotels and  Resorts", 
            "cell_type": "markdown", 
            "metadata": {}
        }, 
        {
            "execution_count": 3, 
            "cell_type": "code", 
            "metadata": {}, 
            "outputs": [
                {
                    "output_type": "stream", 
                    "name": "stdout", 
                    "text": "9.0819482 7.490408\n"
                }
            ], 
            "source": "address = '1 AGUIYI IRONSI STREET MAITAMA, ABUJA, 900001, NIGERIA'\n\ngeolocator = Nominatim(user_agent=\"my-application\")\nlocation = geolocator.geocode(address)\nlatitude = location.latitude\nlongitude = location.longitude\nprint(latitude, longitude)"
        }, 
        {
            "source": "##### passing a search query to foursquare for nearby gyms", 
            "cell_type": "markdown", 
            "metadata": {}
        }, 
        {
            "execution_count": 4, 
            "cell_type": "code", 
            "metadata": {}, 
            "outputs": [
                {
                    "output_type": "stream", 
                    "name": "stdout", 
                    "text": "Gyms .... OK!\n"
                }
            ], 
            "source": "search_query = 'Gyms'\nradius = 5000\nprint(search_query + ' .... OK!')"
        }, 
        {
            "source": "##### Defining url", 
            "cell_type": "markdown", 
            "metadata": {}
        }, 
        {
            "execution_count": 5, 
            "cell_type": "code", 
            "metadata": {}, 
            "outputs": [
                {
                    "execution_count": 5, 
                    "metadata": {}, 
                    "data": {
                        "text/plain": "'https://api.foursquare.com/v2/venues/search?client_id=SKY2YBFEUQBP02SSF0VJKFSIBNVJLOAN142JND1AJ2RU0VFC&client_secret=OZB1WLGWPZNAODYSHSTYGPESUBCILV0HN00QZE4LRPYYK0D1&ll=9.0819482,7.490408&v=20180604&query=Gyms&radius=5000&limit=30'"
                    }, 
                    "output_type": "execute_result"
                }
            ], 
            "source": "url = 'https://api.foursquare.com/v2/venues/search?client_id={}&client_secret={}&ll={},{}&v={}&query={}&radius={}&limit={}'.format(CLIENT_ID, CLIENT_SECRET, latitude, longitude, VERSION, search_query, radius, LIMIT)\nurl"
        }, 
        {
            "source": "##### Getting results", 
            "cell_type": "markdown", 
            "metadata": {}
        }, 
        {
            "execution_count": 6, 
            "cell_type": "code", 
            "metadata": {}, 
            "outputs": [
                {
                    "execution_count": 6, 
                    "metadata": {}, 
                    "data": {
                        "text/plain": "{'meta': {'code': 200, 'requestId': '5c0baafb351e3d425d0f864d'},\n 'response': {'venues': [{'categories': [{'icon': {'prefix': 'https://ss3.4sqi.net/img/categories_v2/shops/sports_outdoors_',\n       'suffix': '.png'},\n      'id': '4f4528bc4b90abdf24c9de85',\n      'name': 'Athletics & Sports',\n      'pluralName': 'Athletics & Sports',\n      'primary': True,\n      'shortName': 'Athletics & Sports'}],\n    'hasPerk': False,\n    'id': '523b34b311d22a9a911d62cc',\n    'location': {'address': 'Wuse 2',\n     'cc': 'NG',\n     'city': 'Abuja',\n     'country': 'Nigeria',\n     'distance': 1882,\n     'formattedAddress': ['Wuse 2',\n      'Abuja',\n      'Federal Capital Territory',\n      'Nigeria'],\n     'labeledLatLngs': [{'label': 'display',\n       'lat': 9.078092691288381,\n       'lng': 7.473729727941876}],\n     'lat': 9.078092691288381,\n     'lng': 7.473729727941876,\n     'state': 'Federal Capital Territory'},\n    'name': 'Gym Sigma Apartments',\n    'referralId': 'v-1544268539'}]}}"
                    }, 
                    "output_type": "execute_result"
                }
            ], 
            "source": "results = requests.get(url).json()\nresults"
        }, 
        {
            "source": "#####  Transfering relevant part of  JSON file into a pandas dataframe ", 
            "cell_type": "markdown", 
            "metadata": {}
        }, 
        {
            "execution_count": 7, 
            "cell_type": "code", 
            "metadata": {}, 
            "outputs": [
                {
                    "execution_count": 7, 
                    "metadata": {}, 
                    "data": {
                        "text/html": "<div>\n<style scoped>\n    .dataframe tbody tr th:only-of-type {\n        vertical-align: middle;\n    }\n\n    .dataframe tbody tr th {\n        vertical-align: top;\n    }\n\n    .dataframe thead th {\n        text-align: right;\n    }\n</style>\n<table border=\"1\" class=\"dataframe\">\n  <thead>\n    <tr style=\"text-align: right;\">\n      <th></th>\n      <th>categories</th>\n      <th>hasPerk</th>\n      <th>id</th>\n      <th>location.address</th>\n      <th>location.cc</th>\n      <th>location.city</th>\n      <th>location.country</th>\n      <th>location.distance</th>\n      <th>location.formattedAddress</th>\n      <th>location.labeledLatLngs</th>\n      <th>location.lat</th>\n      <th>location.lng</th>\n      <th>location.state</th>\n      <th>name</th>\n      <th>referralId</th>\n    </tr>\n  </thead>\n  <tbody>\n    <tr>\n      <th>0</th>\n      <td>[{'primary': True, 'icon': {'suffix': '.png', ...</td>\n      <td>False</td>\n      <td>523b34b311d22a9a911d62cc</td>\n      <td>Wuse 2</td>\n      <td>NG</td>\n      <td>Abuja</td>\n      <td>Nigeria</td>\n      <td>1882</td>\n      <td>[Wuse 2, Abuja, Federal Capital Territory, Nig...</td>\n      <td>[{'label': 'display', 'lng': 7.473729727941876...</td>\n      <td>9.078093</td>\n      <td>7.47373</td>\n      <td>Federal Capital Territory</td>\n      <td>Gym Sigma Apartments</td>\n      <td>v-1544268539</td>\n    </tr>\n  </tbody>\n</table>\n</div>", 
                        "text/plain": "                                          categories  hasPerk  \\\n0  [{'primary': True, 'icon': {'suffix': '.png', ...    False   \n\n                         id location.address location.cc location.city  \\\n0  523b34b311d22a9a911d62cc           Wuse 2          NG         Abuja   \n\n  location.country  location.distance  \\\n0          Nigeria               1882   \n\n                           location.formattedAddress  \\\n0  [Wuse 2, Abuja, Federal Capital Territory, Nig...   \n\n                             location.labeledLatLngs  location.lat  \\\n0  [{'label': 'display', 'lng': 7.473729727941876...      9.078093   \n\n   location.lng             location.state                  name    referralId  \n0       7.47373  Federal Capital Territory  Gym Sigma Apartments  v-1544268539  "
                    }, 
                    "output_type": "execute_result"
                }
            ], 
            "source": "# assign relevant part of JSON to venues\nvenues = results['response']['venues']\n\n# tranform venues into a dataframe\ndataframe = json_normalize(venues)\ndataframe.head()\n#dataframe.shape"
        }, 
        {
            "execution_count": 25, 
            "cell_type": "code", 
            "metadata": {}, 
            "outputs": [
                {
                    "execution_count": 25, 
                    "metadata": {}, 
                    "data": {
                        "text/plain": "Index(['categories', 'hasPerk', 'id', 'location.address', 'location.cc',\n       'location.city', 'location.country', 'location.distance',\n       'location.formattedAddress', 'location.labeledLatLngs', 'location.lat',\n       'location.lng', 'location.state', 'name', 'referralId'],\n      dtype='object')"
                    }, 
                    "output_type": "execute_result"
                }
            ], 
            "source": "dataframe.columns"
        }, 
        {
            "source": "Unfortunately, there are not many gyms near Mishelle, but there is one at wuse which is fairly close to her.", 
            "cell_type": "markdown", 
            "metadata": {}
        }, 
        {
            "source": "##### A map displaying the hotel and  the gym", 
            "cell_type": "markdown", 
            "metadata": {}
        }, 
        {
            "execution_count": 31, 
            "cell_type": "code", 
            "metadata": {}, 
            "outputs": [
                {
                    "execution_count": 31, 
                    "metadata": {}, 
                    "data": {
                        "text/html": "<div style=\"width:100%;\"><div style=\"position:relative;width:100%;height:0;padding-bottom:60%;\"><iframe src=\"data:text/html;charset=utf-8;base64,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\" style=\"position:absolute;width:100%;height:100%;left:0;top:0;border:none !important;\" allowfullscreen webkitallowfullscreen mozallowfullscreen></iframe></div></div>", 
                        "text/plain": "<folium.folium.Map at 0x7f26aa1387f0>"
                    }, 
                    "output_type": "execute_result"
                }
            ], 
            "source": "venues_map = folium.Map(location=[latitude, longitude], zoom_start=13) # generate map centred around the Hilton hotels and resort\n\n# add a blue circle marker to represent the Hilton hotels and resor\nfolium.features.CircleMarker(\n    [latitude, longitude],\n    radius=10,\n    color='red',\n    popup='Hilton hotels and resort',\n    fill = True,\n    fill_color = 'red',\n    fill_opacity = 0.2\n).add_to(venues_map)\n\n# add the gym as green circle markers\n#for lat, lng, label in zip(dataframe.lat, dataframe.longitude, dataframe.categories):\nfolium.features.CircleMarker(\n    [dataframe['location.lat'], dataframe['location.lng']],\n    radius=10,\n    color='blue',\n    popup='Gym Sigma Apartments',\n    fill = True,\n    fill_color='blue',\n    fill_opacity=0.2\n).add_to(venues_map)\n\n# display map\nvenues_map"
        }, 
        {
            "source": "Lets explore the gym", 
            "cell_type": "markdown", 
            "metadata": {}
        }, 
        {
            "execution_count": 32, 
            "cell_type": "code", 
            "metadata": {}, 
            "outputs": [
                {
                    "execution_count": 32, 
                    "metadata": {}, 
                    "data": {
                        "text/plain": "'https://api.foursquare.com/v2/venues/523b34b311d22a9a911d62cc?client_id=SKY2YBFEUQBP02SSF0VJKFSIBNVJLOAN142JND1AJ2RU0VFC&client_secret=OZB1WLGWPZNAODYSHSTYGPESUBCILV0HN00QZE4LRPYYK0D1&v=20180604'"
                    }, 
                    "output_type": "execute_result"
                }
            ], 
            "source": "venue_id = '523b34b311d22a9a911d62cc'\nurl = 'https://api.foursquare.com/v2/venues/{}?client_id={}&client_secret={}&v={}'.format(venue_id, CLIENT_ID, CLIENT_SECRET, VERSION)\nurl"
        }, 
        {
            "source": "Lets now see ratings on the gym", 
            "cell_type": "markdown", 
            "metadata": {}
        }, 
        {
            "execution_count": 34, 
            "cell_type": "code", 
            "metadata": {}, 
            "outputs": [
                {
                    "output_type": "stream", 
                    "name": "stdout", 
                    "text": "This venue has not been rated yet.\n"
                }
            ], 
            "source": "try:\n    print(result['response']['venue']['rating'])\nexcept:\n    print('This venue has not been rated yet.')"
        }, 
        {
            "source": "This is not a very goog sign, However Mishelle can still visit the gym and check it. ", 
            "cell_type": "markdown", 
            "metadata": {}
        }, 
        {
            "source": "#### Report", 
            "cell_type": "markdown", 
            "metadata": {}
        }, 
        {
            "source": "Seeing that there is only one gym in the neighbourhood of the Hilton Hotels and resort, does not really provide room for variety check, but the good news is that Mishelle can still continue with her fitness challenge.", 
            "cell_type": "markdown", 
            "metadata": {}
        }
    ], 
    "metadata": {
        "kernelspec": {
            "display_name": "Python 3.5", 
            "name": "python3", 
            "language": "python"
        }, 
        "language_info": {
            "mimetype": "text/x-python", 
            "nbconvert_exporter": "python", 
            "version": "3.5.5", 
            "name": "python", 
            "file_extension": ".py", 
            "pygments_lexer": "ipython3", 
            "codemirror_mode": {
                "version": 3, 
                "name": "ipython"
            }
        }
    }, 
    "nbformat": 4
}