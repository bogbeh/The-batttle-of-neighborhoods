{
    "nbformat_minor": 1, 
    "cells": [
        {
            "source": "## A description of the problem and a discussion of the background.", 
            "cell_type": "markdown", 
            "metadata": {
                "collapsed": true
            }
        }, 
        {
            "source": "Mishelle's Company sent her on a job to Queens, New York and have reserved an accomodation for her at the LaGuardia Plaza, New York 11369. She is currently on a fittness challenge and would like to see it through. The problem is to locate a gym fairly close to Mishelle, and which has standard facilities.", 
            "cell_type": "markdown", 
            "metadata": {}
        }, 
        {
            "source": "## A description of how to solve the problem", 
            "cell_type": "markdown", 
            "metadata": {}
        }, 
        {
            "source": "First of all, we import the necessary libraries that we need to solve the solve the problem such as numpy, pamdas, follium, requests... We would be calling on foursquare APIs.\nNext we use geocode to find the address the Hilton Hotels and Resorts on the map (i.e; its longlitude and latitude) after defining our foursquare credentials ofcourse. Then we search for nearby gyms, and recomend the gym with the most ratings to Mishelle, giving her its location.", 
            "cell_type": "markdown", 
            "metadata": {}
        }, 
        {
            "source": "##### Importing Libraries", 
            "cell_type": "markdown", 
            "metadata": {}
        }, 
        {
            "execution_count": 1, 
            "cell_type": "code", 
            "metadata": {}, 
            "outputs": [
                {
                    "output_type": "stream", 
                    "name": "stdout", 
                    "text": "Fetching package metadata .............\nSolving package specifications: .\n\nPackage plan for installation in environment /opt/conda/envs/DSX-Python35:\n\nThe following NEW packages will be INSTALLED:\n\n    geographiclib: 1.49-py_0   conda-forge\n    geopy:         1.17.0-py_0 conda-forge\n\ngeographiclib- 100% |################################| Time: 0:00:00  23.55 MB/s\ngeopy-1.17.0-p 100% |################################| Time: 0:00:00  35.91 MB/s\nFetching package metadata .............\nSolving package specifications: .\n\nPackage plan for installation in environment /opt/conda/envs/DSX-Python35:\n\nThe following NEW packages will be INSTALLED:\n\n    altair:  2.2.2-py35_1 conda-forge\n    branca:  0.3.1-py_0   conda-forge\n    folium:  0.5.0-py_0   conda-forge\n    vincent: 0.4.4-py_1   conda-forge\n\naltair-2.2.2-p 100% |################################| Time: 0:00:00  50.49 MB/s\nbranca-0.3.1-p 100% |################################| Time: 0:00:00  35.59 MB/s\nvincent-0.4.4- 100% |################################| Time: 0:00:00  40.08 MB/s\nfolium-0.5.0-p 100% |################################| Time: 0:00:00  49.92 MB/s\nFolium installed\nLibraries imported.\n"
                }
            ], 
            "source": "!conda install -c conda-forge geopy --yes \nfrom geopy.geocoders import Nominatim # module to convert an address into latitude and longitude values\nimport requests # library to handle requests\nimport pandas as pd # library for data analsysis\nimport numpy as np # library to handle data in a vectorized manner\nimport random # library for random number generation\n\n# libraries for displaying images\nfrom IPython.display import Image \nfrom IPython.core.display import HTML \n    \n# tranforming json file into a pandas dataframe library\nfrom pandas.io.json import json_normalize\n\n!conda install -c conda-forge folium=0.5.0 --yes\nimport folium # plotting library\n\nprint('Folium installed')\nprint('Libraries imported.')"
        }, 
        {
            "source": "## Collecting the data that will be used to solve the problem", 
            "cell_type": "markdown", 
            "metadata": {}
        }, 
        {
            "source": "##### We define our foursquare credentials", 
            "cell_type": "markdown", 
            "metadata": {}
        }, 
        {
            "execution_count": 2, 
            "cell_type": "code", 
            "metadata": {}, 
            "outputs": [
                {
                    "output_type": "stream", 
                    "name": "stdout", 
                    "text": "Your credentails:\nCLIENT_ID: SKY2YBFEUQBP02SSF0VJKFSIBNVJLOAN142JND1AJ2RU0VFC\nCLIENT_SECRET:OZB1WLGWPZNAODYSHSTYGPESUBCILV0HN00QZE4LRPYYK0D1\n"
                }
            ], 
            "source": "CLIENT_ID = 'SKY2YBFEUQBP02SSF0VJKFSIBNVJLOAN142JND1AJ2RU0VFC' # your Foursquare ID\nCLIENT_SECRET = 'OZB1WLGWPZNAODYSHSTYGPESUBCILV0HN00QZE4LRPYYK0D1' # your Foursquare Secret\nVERSION = '20180604'\nLIMIT = 30\nprint('Your credentails:')\nprint('CLIENT_ID: ' + CLIENT_ID)\nprint('CLIENT_SECRET:' + CLIENT_SECRET)"
        }, 
        {
            "source": "##### Getting the Latitude and Longitude values of the LaGuardia Plaza and  Resorts", 
            "cell_type": "markdown", 
            "metadata": {}
        }, 
        {
            "execution_count": 3, 
            "cell_type": "code", 
            "metadata": {}, 
            "outputs": [
                {
                    "output_type": "stream", 
                    "name": "stdout", 
                    "text": "40.7298918 -73.997401\n"
                }
            ], 
            "source": "address = 'LaGuardia Plaza, New York 11369'\n\ngeolocator = Nominatim(user_agent=\"my-application\")\nlocation = geolocator.geocode(address)\nlatitude = location.latitude\nlongitude = location.longitude\nprint(latitude, longitude)"
        }, 
        {
            "source": "##### passing a search query to foursquare for nearby gyms", 
            "cell_type": "markdown", 
            "metadata": {}
        }, 
        {
            "execution_count": 4, 
            "cell_type": "code", 
            "metadata": {}, 
            "outputs": [
                {
                    "output_type": "stream", 
                    "name": "stdout", 
                    "text": "Gyms .... OK!\n"
                }
            ], 
            "source": "search_query = 'Gyms'\nradius = 2000\nprint(search_query + ' .... OK!')"
        }, 
        {
            "source": "##### Defining url", 
            "cell_type": "markdown", 
            "metadata": {}
        }, 
        {
            "execution_count": 5, 
            "cell_type": "code", 
            "metadata": {}, 
            "outputs": [
                {
                    "execution_count": 5, 
                    "metadata": {}, 
                    "data": {
                        "text/plain": "'https://api.foursquare.com/v2/venues/search?client_id=SKY2YBFEUQBP02SSF0VJKFSIBNVJLOAN142JND1AJ2RU0VFC&client_secret=OZB1WLGWPZNAODYSHSTYGPESUBCILV0HN00QZE4LRPYYK0D1&ll=40.7298918,-73.997401&v=20180604&query=Gyms&radius=2000&limit=30'"
                    }, 
                    "output_type": "execute_result"
                }
            ], 
            "source": "url = 'https://api.foursquare.com/v2/venues/search?client_id={}&client_secret={}&ll={},{}&v={}&query={}&radius={}&limit={}'.format(CLIENT_ID, CLIENT_SECRET, latitude, longitude, VERSION, search_query, radius, LIMIT)\nurl"
        }, 
        {
            "source": "##### Getting results", 
            "cell_type": "markdown", 
            "metadata": {}
        }, 
        {
            "execution_count": 6, 
            "cell_type": "code", 
            "metadata": {}, 
            "outputs": [
                {
                    "execution_count": 6, 
                    "metadata": {}, 
                    "data": {
                        "text/plain": "{'meta': {'code': 200, 'requestId': '5c0c7e8ddb04f5265e7f5f04'},\n 'response': {'venues': [{'categories': [{'icon': {'prefix': 'https://ss3.4sqi.net/img/categories_v2/nightlife/gaybar_',\n       'suffix': '.png'},\n      'id': '4bf58dd8d48988d1d8941735',\n      'name': 'Gay Bar',\n      'pluralName': 'Gay Bars',\n      'primary': True,\n      'shortName': 'Gay Bar'}],\n    'hasPerk': False,\n    'id': '42829c80f964a52032221fe3',\n    'location': {'address': '167 8th Ave',\n     'cc': 'US',\n     'city': 'New York',\n     'country': 'United States',\n     'crossStreet': 'btwn W 18th & W 19th St',\n     'distance': 1439,\n     'formattedAddress': ['167 8th Ave (btwn W 18th & W 19th St)',\n      'New York, NY 10011',\n      'United States'],\n     'labeledLatLngs': [{'label': 'display',\n       'lat': 40.742593,\n       'lng': -74.000588}],\n     'lat': 40.742593,\n     'lng': -74.000588,\n     'postalCode': '10011',\n     'state': 'NY'},\n    'name': 'GYM Sportsbar',\n    'referralId': 'v-1544322701'},\n   {'categories': [{'icon': {'prefix': 'https://ss3.4sqi.net/img/categories_v2/building/gym_',\n       'suffix': '.png'},\n      'id': '4bf58dd8d48988d1b2941735',\n      'name': 'College Gym',\n      'pluralName': 'College Gyms',\n      'primary': True,\n      'shortName': 'Gym'}],\n    'hasPerk': False,\n    'id': '50fdd8e9e4b0c9eebd272ee9',\n    'location': {'address': '101 Murray St',\n     'cc': 'US',\n     'city': 'New York',\n     'country': 'United States',\n     'crossStreet': 'Greenwich',\n     'distance': 2094,\n     'formattedAddress': ['101 Murray St (Greenwich)',\n      'New York, NY 10007',\n      'United States'],\n     'labeledLatLngs': [{'label': 'display',\n       'lat': 40.71552359310045,\n       'lng': -74.01342086503728}],\n     'lat': 40.71552359310045,\n     'lng': -74.01342086503728,\n     'postalCode': '10007',\n     'state': 'NY'},\n    'name': \"Gym @ St. John's\",\n    'referralId': 'v-1544322701'},\n   {'categories': [{'icon': {'prefix': 'https://ss3.4sqi.net/img/categories_v2/building/gym_',\n       'suffix': '.png'},\n      'id': '52f2ab2ebcbc57f1066b8b47',\n      'name': 'Boxing Gym',\n      'pluralName': 'Boxing Gyms',\n      'primary': True,\n      'shortName': 'Boxing Gym'}],\n    'hasPerk': False,\n    'id': '575b2829498e77357d734a04',\n    'location': {'address': '43 Crosby St',\n     'cc': 'US',\n     'city': 'New York',\n     'country': 'United States',\n     'distance': 911,\n     'formattedAddress': ['43 Crosby St',\n      'New York, NY 10012',\n      'United States'],\n     'labeledLatLngs': [{'label': 'display',\n       'lat': 40.72175745506477,\n       'lng': -73.99868360254634}],\n     'lat': 40.72175745506477,\n     'lng': -73.99868360254634,\n     'postalCode': '10012',\n     'state': 'NY'},\n    'name': 'Gotham Gym SoHo',\n    'referralId': 'v-1544322701'},\n   {'categories': [{'icon': {'prefix': 'https://ss3.4sqi.net/img/categories_v2/building/gym_',\n       'suffix': '.png'},\n      'id': '4bf58dd8d48988d175941735',\n      'name': 'Gym / Fitness Center',\n      'pluralName': 'Gyms or Fitness Centers',\n      'primary': True,\n      'shortName': 'Gym / Fitness'}],\n    'hasPerk': False,\n    'id': '4c8f73d24e95236ac70084ca',\n    'location': {'address': '101 Murray St',\n     'cc': 'US',\n     'city': 'New York',\n     'country': 'United States',\n     'distance': 2077,\n     'formattedAddress': ['101 Murray St',\n      'New York, NY 10007',\n      'United States'],\n     'labeledLatLngs': [{'label': 'display',\n       'lat': 40.7151657896297,\n       'lng': -74.0125256983073}],\n     'lat': 40.7151657896297,\n     'lng': -74.0125256983073,\n     'postalCode': '10007',\n     'state': 'NY'},\n    'name': \"Gym @ St. John's\",\n    'referralId': 'v-1544322701'},\n   {'categories': [{'icon': {'prefix': 'https://ss3.4sqi.net/img/categories_v2/building/school_',\n       'suffix': '.png'},\n      'id': '4bf58dd8d48988d13b941735',\n      'name': 'School',\n      'pluralName': 'Schools',\n      'primary': True,\n      'shortName': 'School'}],\n    'hasPerk': False,\n    'id': '4fad804ee4b03d09569cb6b9',\n    'location': {'address': '8 Spruce St',\n     'cc': 'US',\n     'city': 'New York',\n     'country': 'United States',\n     'distance': 2388,\n     'formattedAddress': ['8 Spruce St',\n      'New York, NY 10038',\n      'United States'],\n     'labeledLatLngs': [{'label': 'display',\n       'lat': 40.709118055887835,\n       'lng': -74.00446327059542}],\n     'lat': 40.709118055887835,\n     'lng': -74.00446327059542,\n     'postalCode': '10038',\n     'state': 'NY'},\n    'name': 'The Gym @ Spruce Street School',\n    'referralId': 'v-1544322701'}]}}"
                    }, 
                    "output_type": "execute_result"
                }
            ], 
            "source": "results = requests.get(url).json()\nresults"
        }, 
        {
            "source": "#####  Transfering relevant part of  JSON file into a pandas dataframe ", 
            "cell_type": "markdown", 
            "metadata": {}
        }, 
        {
            "execution_count": 7, 
            "cell_type": "code", 
            "metadata": {}, 
            "outputs": [
                {
                    "execution_count": 7, 
                    "metadata": {}, 
                    "data": {
                        "text/html": "<div>\n<style scoped>\n    .dataframe tbody tr th:only-of-type {\n        vertical-align: middle;\n    }\n\n    .dataframe tbody tr th {\n        vertical-align: top;\n    }\n\n    .dataframe thead th {\n        text-align: right;\n    }\n</style>\n<table border=\"1\" class=\"dataframe\">\n  <thead>\n    <tr style=\"text-align: right;\">\n      <th></th>\n      <th>categories</th>\n      <th>hasPerk</th>\n      <th>id</th>\n      <th>location.address</th>\n      <th>location.cc</th>\n      <th>location.city</th>\n      <th>location.country</th>\n      <th>location.crossStreet</th>\n      <th>location.distance</th>\n      <th>location.formattedAddress</th>\n      <th>location.labeledLatLngs</th>\n      <th>location.lat</th>\n      <th>location.lng</th>\n      <th>location.postalCode</th>\n      <th>location.state</th>\n      <th>name</th>\n      <th>referralId</th>\n    </tr>\n  </thead>\n  <tbody>\n    <tr>\n      <th>0</th>\n      <td>[{'icon': {'prefix': 'https://ss3.4sqi.net/img...</td>\n      <td>False</td>\n      <td>42829c80f964a52032221fe3</td>\n      <td>167 8th Ave</td>\n      <td>US</td>\n      <td>New York</td>\n      <td>United States</td>\n      <td>btwn W 18th &amp; W 19th St</td>\n      <td>1439</td>\n      <td>[167 8th Ave (btwn W 18th &amp; W 19th St), New Yo...</td>\n      <td>[{'label': 'display', 'lat': 40.742593, 'lng':...</td>\n      <td>40.742593</td>\n      <td>-74.000588</td>\n      <td>10011</td>\n      <td>NY</td>\n      <td>GYM Sportsbar</td>\n      <td>v-1544322701</td>\n    </tr>\n    <tr>\n      <th>1</th>\n      <td>[{'icon': {'prefix': 'https://ss3.4sqi.net/img...</td>\n      <td>False</td>\n      <td>50fdd8e9e4b0c9eebd272ee9</td>\n      <td>101 Murray St</td>\n      <td>US</td>\n      <td>New York</td>\n      <td>United States</td>\n      <td>Greenwich</td>\n      <td>2094</td>\n      <td>[101 Murray St (Greenwich), New York, NY 10007...</td>\n      <td>[{'label': 'display', 'lat': 40.71552359310045...</td>\n      <td>40.715524</td>\n      <td>-74.013421</td>\n      <td>10007</td>\n      <td>NY</td>\n      <td>Gym @ St. John's</td>\n      <td>v-1544322701</td>\n    </tr>\n    <tr>\n      <th>2</th>\n      <td>[{'icon': {'prefix': 'https://ss3.4sqi.net/img...</td>\n      <td>False</td>\n      <td>575b2829498e77357d734a04</td>\n      <td>43 Crosby St</td>\n      <td>US</td>\n      <td>New York</td>\n      <td>United States</td>\n      <td>NaN</td>\n      <td>911</td>\n      <td>[43 Crosby St, New York, NY 10012, United States]</td>\n      <td>[{'label': 'display', 'lat': 40.72175745506477...</td>\n      <td>40.721757</td>\n      <td>-73.998684</td>\n      <td>10012</td>\n      <td>NY</td>\n      <td>Gotham Gym SoHo</td>\n      <td>v-1544322701</td>\n    </tr>\n    <tr>\n      <th>3</th>\n      <td>[{'icon': {'prefix': 'https://ss3.4sqi.net/img...</td>\n      <td>False</td>\n      <td>4c8f73d24e95236ac70084ca</td>\n      <td>101 Murray St</td>\n      <td>US</td>\n      <td>New York</td>\n      <td>United States</td>\n      <td>NaN</td>\n      <td>2077</td>\n      <td>[101 Murray St, New York, NY 10007, United Sta...</td>\n      <td>[{'label': 'display', 'lat': 40.7151657896297,...</td>\n      <td>40.715166</td>\n      <td>-74.012526</td>\n      <td>10007</td>\n      <td>NY</td>\n      <td>Gym @ St. John's</td>\n      <td>v-1544322701</td>\n    </tr>\n    <tr>\n      <th>4</th>\n      <td>[{'icon': {'prefix': 'https://ss3.4sqi.net/img...</td>\n      <td>False</td>\n      <td>4fad804ee4b03d09569cb6b9</td>\n      <td>8 Spruce St</td>\n      <td>US</td>\n      <td>New York</td>\n      <td>United States</td>\n      <td>NaN</td>\n      <td>2388</td>\n      <td>[8 Spruce St, New York, NY 10038, United States]</td>\n      <td>[{'label': 'display', 'lat': 40.70911805588783...</td>\n      <td>40.709118</td>\n      <td>-74.004463</td>\n      <td>10038</td>\n      <td>NY</td>\n      <td>The Gym @ Spruce Street School</td>\n      <td>v-1544322701</td>\n    </tr>\n  </tbody>\n</table>\n</div>", 
                        "text/plain": "                                          categories  hasPerk  \\\n0  [{'icon': {'prefix': 'https://ss3.4sqi.net/img...    False   \n1  [{'icon': {'prefix': 'https://ss3.4sqi.net/img...    False   \n2  [{'icon': {'prefix': 'https://ss3.4sqi.net/img...    False   \n3  [{'icon': {'prefix': 'https://ss3.4sqi.net/img...    False   \n4  [{'icon': {'prefix': 'https://ss3.4sqi.net/img...    False   \n\n                         id location.address location.cc location.city  \\\n0  42829c80f964a52032221fe3      167 8th Ave          US      New York   \n1  50fdd8e9e4b0c9eebd272ee9    101 Murray St          US      New York   \n2  575b2829498e77357d734a04     43 Crosby St          US      New York   \n3  4c8f73d24e95236ac70084ca    101 Murray St          US      New York   \n4  4fad804ee4b03d09569cb6b9      8 Spruce St          US      New York   \n\n  location.country     location.crossStreet  location.distance  \\\n0    United States  btwn W 18th & W 19th St               1439   \n1    United States                Greenwich               2094   \n2    United States                      NaN                911   \n3    United States                      NaN               2077   \n4    United States                      NaN               2388   \n\n                           location.formattedAddress  \\\n0  [167 8th Ave (btwn W 18th & W 19th St), New Yo...   \n1  [101 Murray St (Greenwich), New York, NY 10007...   \n2  [43 Crosby St, New York, NY 10012, United States]   \n3  [101 Murray St, New York, NY 10007, United Sta...   \n4   [8 Spruce St, New York, NY 10038, United States]   \n\n                             location.labeledLatLngs  location.lat  \\\n0  [{'label': 'display', 'lat': 40.742593, 'lng':...     40.742593   \n1  [{'label': 'display', 'lat': 40.71552359310045...     40.715524   \n2  [{'label': 'display', 'lat': 40.72175745506477...     40.721757   \n3  [{'label': 'display', 'lat': 40.7151657896297,...     40.715166   \n4  [{'label': 'display', 'lat': 40.70911805588783...     40.709118   \n\n   location.lng location.postalCode location.state  \\\n0    -74.000588               10011             NY   \n1    -74.013421               10007             NY   \n2    -73.998684               10012             NY   \n3    -74.012526               10007             NY   \n4    -74.004463               10038             NY   \n\n                             name    referralId  \n0                   GYM Sportsbar  v-1544322701  \n1                Gym @ St. John's  v-1544322701  \n2                 Gotham Gym SoHo  v-1544322701  \n3                Gym @ St. John's  v-1544322701  \n4  The Gym @ Spruce Street School  v-1544322701  "
                    }, 
                    "output_type": "execute_result"
                }
            ], 
            "source": "# assign relevant part of JSON to venues\nvenues = results['response']['venues']\n\n# tranform venues into a dataframe\ndataframe = json_normalize(venues)\ndataframe.head()"
        }, 
        {
            "execution_count": 8, 
            "cell_type": "code", 
            "metadata": {}, 
            "outputs": [
                {
                    "execution_count": 8, 
                    "metadata": {}, 
                    "data": {
                        "text/plain": "(5, 17)"
                    }, 
                    "output_type": "execute_result"
                }
            ], 
            "source": "dataframe.shape"
        }, 
        {
            "execution_count": 9, 
            "cell_type": "code", 
            "metadata": {}, 
            "outputs": [
                {
                    "execution_count": 9, 
                    "metadata": {}, 
                    "data": {
                        "text/plain": "Index(['categories', 'hasPerk', 'id', 'location.address', 'location.cc',\n       'location.city', 'location.country', 'location.crossStreet',\n       'location.distance', 'location.formattedAddress',\n       'location.labeledLatLngs', 'location.lat', 'location.lng',\n       'location.postalCode', 'location.state', 'name', 'referralId'],\n      dtype='object')"
                    }, 
                    "output_type": "execute_result"
                }
            ], 
            "source": "dataframe.columns"
        }, 
        {
            "execution_count": 11, 
            "cell_type": "code", 
            "metadata": {}, 
            "outputs": [
                {
                    "execution_count": 11, 
                    "metadata": {}, 
                    "data": {
                        "text/html": "<div>\n<style scoped>\n    .dataframe tbody tr th:only-of-type {\n        vertical-align: middle;\n    }\n\n    .dataframe tbody tr th {\n        vertical-align: top;\n    }\n\n    .dataframe thead th {\n        text-align: right;\n    }\n</style>\n<table border=\"1\" class=\"dataframe\">\n  <thead>\n    <tr style=\"text-align: right;\">\n      <th></th>\n      <th>categories</th>\n      <th>hasPerk</th>\n      <th>id</th>\n      <th>location.address</th>\n      <th>location.cc</th>\n      <th>location.city</th>\n      <th>location.country</th>\n      <th>location.crossStreet</th>\n      <th>location.distance</th>\n      <th>location.formattedAddress</th>\n      <th>location.labeledLatLngs</th>\n      <th>location.lat</th>\n      <th>location.lng</th>\n      <th>location.postalCode</th>\n      <th>location.state</th>\n      <th>name</th>\n      <th>referralId</th>\n      <th>address</th>\n      <th>lat</th>\n      <th>lng</th>\n    </tr>\n  </thead>\n  <tbody>\n    <tr>\n      <th>0</th>\n      <td>[{'icon': {'prefix': 'https://ss3.4sqi.net/img...</td>\n      <td>False</td>\n      <td>42829c80f964a52032221fe3</td>\n      <td>167 8th Ave</td>\n      <td>US</td>\n      <td>New York</td>\n      <td>United States</td>\n      <td>btwn W 18th &amp; W 19th St</td>\n      <td>1439</td>\n      <td>[167 8th Ave (btwn W 18th &amp; W 19th St), New Yo...</td>\n      <td>[{'label': 'display', 'lat': 40.742593, 'lng':...</td>\n      <td>40.742593</td>\n      <td>-74.000588</td>\n      <td>10011</td>\n      <td>NY</td>\n      <td>GYM Sportsbar</td>\n      <td>v-1544322701</td>\n      <td>167 8th Ave</td>\n      <td>40.742593</td>\n      <td>-74.000588</td>\n    </tr>\n    <tr>\n      <th>1</th>\n      <td>[{'icon': {'prefix': 'https://ss3.4sqi.net/img...</td>\n      <td>False</td>\n      <td>50fdd8e9e4b0c9eebd272ee9</td>\n      <td>101 Murray St</td>\n      <td>US</td>\n      <td>New York</td>\n      <td>United States</td>\n      <td>Greenwich</td>\n      <td>2094</td>\n      <td>[101 Murray St (Greenwich), New York, NY 10007...</td>\n      <td>[{'label': 'display', 'lat': 40.71552359310045...</td>\n      <td>40.715524</td>\n      <td>-74.013421</td>\n      <td>10007</td>\n      <td>NY</td>\n      <td>Gym @ St. John's</td>\n      <td>v-1544322701</td>\n      <td>101 Murray St</td>\n      <td>40.715524</td>\n      <td>-74.013421</td>\n    </tr>\n    <tr>\n      <th>2</th>\n      <td>[{'icon': {'prefix': 'https://ss3.4sqi.net/img...</td>\n      <td>False</td>\n      <td>575b2829498e77357d734a04</td>\n      <td>43 Crosby St</td>\n      <td>US</td>\n      <td>New York</td>\n      <td>United States</td>\n      <td>NaN</td>\n      <td>911</td>\n      <td>[43 Crosby St, New York, NY 10012, United States]</td>\n      <td>[{'label': 'display', 'lat': 40.72175745506477...</td>\n      <td>40.721757</td>\n      <td>-73.998684</td>\n      <td>10012</td>\n      <td>NY</td>\n      <td>Gotham Gym SoHo</td>\n      <td>v-1544322701</td>\n      <td>43 Crosby St</td>\n      <td>40.721757</td>\n      <td>-73.998684</td>\n    </tr>\n    <tr>\n      <th>3</th>\n      <td>[{'icon': {'prefix': 'https://ss3.4sqi.net/img...</td>\n      <td>False</td>\n      <td>4c8f73d24e95236ac70084ca</td>\n      <td>101 Murray St</td>\n      <td>US</td>\n      <td>New York</td>\n      <td>United States</td>\n      <td>NaN</td>\n      <td>2077</td>\n      <td>[101 Murray St, New York, NY 10007, United Sta...</td>\n      <td>[{'label': 'display', 'lat': 40.7151657896297,...</td>\n      <td>40.715166</td>\n      <td>-74.012526</td>\n      <td>10007</td>\n      <td>NY</td>\n      <td>Gym @ St. John's</td>\n      <td>v-1544322701</td>\n      <td>101 Murray St</td>\n      <td>40.715166</td>\n      <td>-74.012526</td>\n    </tr>\n    <tr>\n      <th>4</th>\n      <td>[{'icon': {'prefix': 'https://ss3.4sqi.net/img...</td>\n      <td>False</td>\n      <td>4fad804ee4b03d09569cb6b9</td>\n      <td>8 Spruce St</td>\n      <td>US</td>\n      <td>New York</td>\n      <td>United States</td>\n      <td>NaN</td>\n      <td>2388</td>\n      <td>[8 Spruce St, New York, NY 10038, United States]</td>\n      <td>[{'label': 'display', 'lat': 40.70911805588783...</td>\n      <td>40.709118</td>\n      <td>-74.004463</td>\n      <td>10038</td>\n      <td>NY</td>\n      <td>The Gym @ Spruce Street School</td>\n      <td>v-1544322701</td>\n      <td>8 Spruce St</td>\n      <td>40.709118</td>\n      <td>-74.004463</td>\n    </tr>\n  </tbody>\n</table>\n</div>", 
                        "text/plain": "                                          categories  hasPerk  \\\n0  [{'icon': {'prefix': 'https://ss3.4sqi.net/img...    False   \n1  [{'icon': {'prefix': 'https://ss3.4sqi.net/img...    False   \n2  [{'icon': {'prefix': 'https://ss3.4sqi.net/img...    False   \n3  [{'icon': {'prefix': 'https://ss3.4sqi.net/img...    False   \n4  [{'icon': {'prefix': 'https://ss3.4sqi.net/img...    False   \n\n                         id location.address location.cc location.city  \\\n0  42829c80f964a52032221fe3      167 8th Ave          US      New York   \n1  50fdd8e9e4b0c9eebd272ee9    101 Murray St          US      New York   \n2  575b2829498e77357d734a04     43 Crosby St          US      New York   \n3  4c8f73d24e95236ac70084ca    101 Murray St          US      New York   \n4  4fad804ee4b03d09569cb6b9      8 Spruce St          US      New York   \n\n  location.country     location.crossStreet  location.distance  \\\n0    United States  btwn W 18th & W 19th St               1439   \n1    United States                Greenwich               2094   \n2    United States                      NaN                911   \n3    United States                      NaN               2077   \n4    United States                      NaN               2388   \n\n                           location.formattedAddress  \\\n0  [167 8th Ave (btwn W 18th & W 19th St), New Yo...   \n1  [101 Murray St (Greenwich), New York, NY 10007...   \n2  [43 Crosby St, New York, NY 10012, United States]   \n3  [101 Murray St, New York, NY 10007, United Sta...   \n4   [8 Spruce St, New York, NY 10038, United States]   \n\n                             location.labeledLatLngs  location.lat  \\\n0  [{'label': 'display', 'lat': 40.742593, 'lng':...     40.742593   \n1  [{'label': 'display', 'lat': 40.71552359310045...     40.715524   \n2  [{'label': 'display', 'lat': 40.72175745506477...     40.721757   \n3  [{'label': 'display', 'lat': 40.7151657896297,...     40.715166   \n4  [{'label': 'display', 'lat': 40.70911805588783...     40.709118   \n\n   location.lng location.postalCode location.state  \\\n0    -74.000588               10011             NY   \n1    -74.013421               10007             NY   \n2    -73.998684               10012             NY   \n3    -74.012526               10007             NY   \n4    -74.004463               10038             NY   \n\n                             name    referralId        address        lat  \\\n0                   GYM Sportsbar  v-1544322701    167 8th Ave  40.742593   \n1                Gym @ St. John's  v-1544322701  101 Murray St  40.715524   \n2                 Gotham Gym SoHo  v-1544322701   43 Crosby St  40.721757   \n3                Gym @ St. John's  v-1544322701  101 Murray St  40.715166   \n4  The Gym @ Spruce Street School  v-1544322701    8 Spruce St  40.709118   \n\n         lng  \n0 -74.000588  \n1 -74.013421  \n2 -73.998684  \n3 -74.012526  \n4 -74.004463  "
                    }, 
                    "output_type": "execute_result"
                }
            ], 
            "source": "dataframe['address']=dataframe['location.address'] \ndataframe['lat']=dataframe['location.lat'] \ndataframe['lng']=dataframe['location.lng'] \ndataframe.head()"
        }, 
        {
            "source": "## Methodology", 
            "cell_type": "markdown", 
            "metadata": {}
        }, 
        {
            "source": "##### A map displaying the hotel and  the gyms", 
            "cell_type": "markdown", 
            "metadata": {}
        }, 
        {
            "execution_count": 33, 
            "cell_type": "code", 
            "metadata": {}, 
            "outputs": [
                {
                    "execution_count": 33, 
                    "metadata": {}, 
                    "data": {
                        "text/html": "<div style=\"width:100%;\"><div style=\"position:relative;width:100%;height:0;padding-bottom:60%;\"><iframe src=\"data:text/html;charset=utf-8;base64,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\" style=\"position:absolute;width:100%;height:100%;left:0;top:0;border:none !important;\" allowfullscreen webkitallowfullscreen mozallowfullscreen></iframe></div></div>", 
                        "text/plain": "<folium.folium.Map at 0x7f2ef4a74198>"
                    }, 
                    "output_type": "execute_result"
                }
            ], 
            "source": "venues_map = folium.Map(location=[latitude, longitude], zoom_start=13) # generate map centred around the Conrad Hotel\n\n# add a red circle marker to represent the Conrad Hotel\nfolium.features.CircleMarker(\n    [latitude, longitude],\n    radius=10,\n    color='red',\n    popup='LaGuardia Plaza',\n    fill = True,\n    fill_color = 'red',\n    fill_opacity = 0.6\n).add_to(venues_map)\n\n# add the Italian restaurants as blue circle markers\nfor lat, lng, label in zip(dataframe.lat, dataframe.lng, dataframe.categories):\n    folium.features.CircleMarker(\n        [lat, lng],\n        radius=5,\n        #popup=label,\n        color='blue',\n        fill = True,\n        fill_color='blue',\n        fill_opacity=0.6\n    ).add_to(venues_map)\n\n# display map\nvenues_map"
        }, 
        {
            "source": "Lets explore the Gotham gym SoHo which is most closest to the LaGuardia Plaza", 
            "cell_type": "markdown", 
            "metadata": {}
        }, 
        {
            "execution_count": 34, 
            "cell_type": "code", 
            "metadata": {}, 
            "outputs": [
                {
                    "execution_count": 34, 
                    "metadata": {}, 
                    "data": {
                        "text/plain": "'https://api.foursquare.com/v2/venues/575b2829498e77357d734a04?client_id=SKY2YBFEUQBP02SSF0VJKFSIBNVJLOAN142JND1AJ2RU0VFC&client_secret=OZB1WLGWPZNAODYSHSTYGPESUBCILV0HN00QZE4LRPYYK0D1&v=20180604'"
                    }, 
                    "output_type": "execute_result"
                }
            ], 
            "source": "venue_id = '575b2829498e77357d734a04'\nurl = 'https://api.foursquare.com/v2/venues/{}?client_id={}&client_secret={}&v={}'.format(venue_id, CLIENT_ID, CLIENT_SECRET, VERSION)\nurl"
        }, 
        {
            "execution_count": 36, 
            "cell_type": "code", 
            "metadata": {}, 
            "outputs": [
                {
                    "output_type": "stream", 
                    "name": "stdout", 
                    "text": "dict_keys(['pageUpdates', 'specials', 'name', 'rating', 'beenHere', 'dislike', 'id', 'tips', 'canonicalUrl', 'createdAt', 'inbox', 'attributes', 'popular', 'likes', 'location', 'allowMenuUrlEdit', 'reasons', 'ok', 'contact', 'bestPhoto', 'photos', 'colors', 'categories', 'ratingColor', 'verified', 'stats', 'ratingSignals', 'timeZone', 'hereNow', 'listed', 'shortUrl'])\n"
                }, 
                {
                    "execution_count": 36, 
                    "metadata": {}, 
                    "data": {
                        "text/plain": "{'allowMenuUrlEdit': True,\n 'attributes': {'groups': []},\n 'beenHere': {'count': 0,\n  'lastCheckinExpiredAt': 0,\n  'marked': False,\n  'unconfirmedCount': 0},\n 'bestPhoto': {'createdAt': 1513382955,\n  'height': 1920,\n  'id': '5a34642bf1fdaf2316f9807a',\n  'prefix': 'https://fastly.4sqi.net/img/general/',\n  'source': {'name': 'Swarm for iOS', 'url': 'https://www.swarmapp.com'},\n  'suffix': '/17603030_rPpK3vCesvwJcHB9i2Q5BwvZwMCsXUstclPNfJffPZw.jpg',\n  'visibility': 'public',\n  'width': 1440},\n 'canonicalUrl': 'https://foursquare.com/v/gotham-gym-soho/575b2829498e77357d734a04',\n 'categories': [{'icon': {'prefix': 'https://ss3.4sqi.net/img/categories_v2/building/gym_',\n    'suffix': '.png'},\n   'id': '52f2ab2ebcbc57f1066b8b47',\n   'name': 'Boxing Gym',\n   'pluralName': 'Boxing Gyms',\n   'primary': True,\n   'shortName': 'Boxing Gym'}],\n 'colors': {'algoVersion': 3,\n  'highlightColor': {'photoId': '5a34642bf1fdaf2316f9807a',\n   'value': -14673896},\n  'highlightTextColor': {'photoId': '5a34642bf1fdaf2316f9807a', 'value': -1}},\n 'contact': {},\n 'createdAt': 1465591849,\n 'dislike': False,\n 'hereNow': {'count': 0, 'groups': [], 'summary': 'Nobody here'},\n 'id': '575b2829498e77357d734a04',\n 'inbox': {'count': 0, 'items': []},\n 'likes': {'count': 20,\n  'groups': [{'count': 20, 'items': [], 'type': 'others'}],\n  'summary': '20 Likes'},\n 'listed': {'count': 3,\n  'groups': [{'count': 3,\n    'items': [{'canonicalUrl': 'https://foursquare.com/user/86910608/list/nyc-fitness',\n      'collaborative': False,\n      'createdAt': 1404004868,\n      'description': '',\n      'editable': False,\n      'followers': {'count': 0},\n      'id': '53af6a04498e26f23d7a0c81',\n      'listItems': {'count': 31,\n       'items': [{'createdAt': 1487624051,\n         'id': 'v575b2829498e77357d734a04'}]},\n      'name': 'NYC Fitness',\n      'public': True,\n      'type': 'others',\n      'updatedAt': 1496784182,\n      'url': '/user/86910608/list/nyc-fitness',\n      'user': {'firstName': 'Giulia',\n       'gender': 'female',\n       'id': '86910608',\n       'lastName': 'Mercuri',\n       'photo': {'prefix': 'https://fastly.4sqi.net/img/user/',\n        'suffix': '/86910608-3ENTEVJM2YL42JBR.jpg'}}},\n     {'canonicalUrl': 'https://foursquare.com/_handeaksoy_/list/nyc',\n      'collaborative': False,\n      'createdAt': 1445303493,\n      'description': '',\n      'editable': False,\n      'followers': {'count': 0},\n      'id': '562594c5498ef0b79b680b86',\n      'listItems': {'count': 350,\n       'items': [{'createdAt': 1497121212,\n         'id': 'v575b2829498e77357d734a04'}]},\n      'name': 'NYC',\n      'photo': {'createdAt': 1409240168,\n       'height': 640,\n       'id': '53ff4c6811d2c59ecc64412b',\n       'prefix': 'https://fastly.4sqi.net/img/general/',\n       'suffix': '/10140157_qu0nXr4J8JrmS7ybR-t4ojl3dOpIK7407LNsplBoGdo.jpg',\n       'user': {'firstName': 'Michael',\n        'gender': 'male',\n        'id': '10140157',\n        'lastName': 'Giraldo-Rodriguez',\n        'photo': {'prefix': 'https://fastly.4sqi.net/img/user/',\n         'suffix': '/FDYIO1EZYFCSBGNK.jpg'}},\n       'visibility': 'public',\n       'width': 640},\n      'public': True,\n      'type': 'others',\n      'updatedAt': 1505609283,\n      'url': '/_handeaksoy_/list/nyc',\n      'user': {'firstName': 'Hande',\n       'gender': 'female',\n       'id': '40917369',\n       'lastName': 'Aksoy',\n       'photo': {'prefix': 'https://fastly.4sqi.net/img/user/',\n        'suffix': '/40917369-3EHHDBN0PJBQ1QZH.jpg'}}}],\n    'name': 'Lists from other people',\n    'type': 'others'}]},\n 'location': {'address': '43 Crosby St',\n  'cc': 'US',\n  'city': 'New York',\n  'country': 'United States',\n  'formattedAddress': ['43 Crosby St', 'New York, NY 10012', 'United States'],\n  'labeledLatLngs': [{'label': 'display',\n    'lat': 40.72175745506477,\n    'lng': -73.99868360254634}],\n  'lat': 40.72175745506477,\n  'lng': -73.99868360254634,\n  'postalCode': '10012',\n  'state': 'NY'},\n 'name': 'Gotham Gym SoHo',\n 'ok': False,\n 'pageUpdates': {'count': 0, 'items': []},\n 'photos': {'count': 8,\n  'groups': [{'count': 0,\n    'items': [],\n    'name': \"Friends' check-in photos\",\n    'type': 'checkin'},\n   {'count': 8,\n    'items': [{'createdAt': 1513382955,\n      'height': 1920,\n      'id': '5a34642bf1fdaf2316f9807a',\n      'prefix': 'https://fastly.4sqi.net/img/general/',\n      'source': {'name': 'Swarm for iOS', 'url': 'https://www.swarmapp.com'},\n      'suffix': '/17603030_rPpK3vCesvwJcHB9i2Q5BwvZwMCsXUstclPNfJffPZw.jpg',\n      'user': {'firstName': 'Amanda',\n       'gender': 'female',\n       'id': '17603030',\n       'lastName': 'C',\n       'photo': {'prefix': 'https://fastly.4sqi.net/img/user/',\n        'suffix': '/17603030_be4HbQfw__UZknsd7OxJGy598oOX5mxA1ic9WJt-pQt5G7Dr1Wtb8FP4SB8fpNK1LMuRGJfvj.jpg'}},\n      'visibility': 'public',\n      'width': 1440}],\n    'name': 'Venue photos',\n    'type': 'venue'}],\n  'summary': '0 photos'},\n 'popular': {'isLocalHoliday': False,\n  'isOpen': False,\n  'timeframes': [{'days': 'Today',\n    'includesToday': True,\n    'open': [{'renderedTime': '8:00 AM\u2013Noon'}],\n    'segments': []},\n   {'days': 'Sun',\n    'open': [{'renderedTime': '8:00 AM\u20132:00 PM'}],\n    'segments': []},\n   {'days': 'Mon',\n    'open': [{'renderedTime': '6:00 AM\u20132:00 PM'},\n     {'renderedTime': '5:00 PM\u20138:00 PM'}],\n    'segments': []},\n   {'days': 'Tue',\n    'open': [{'renderedTime': '6:00 AM\u20137:00 AM'},\n     {'renderedTime': '9:00 AM\u201310:00 AM'},\n     {'renderedTime': '6:00 PM\u20138:00 PM'}],\n    'segments': []},\n   {'days': 'Wed',\n    'open': [{'renderedTime': '6:00 AM\u20139:00 AM'},\n     {'renderedTime': '5:00 PM\u20139:00 PM'}],\n    'segments': []},\n   {'days': 'Thu',\n    'open': [{'renderedTime': '6:00 AM\u201310:00 AM'},\n     {'renderedTime': '5:00 PM\u201310:00 PM'}],\n    'segments': []},\n   {'days': 'Fri',\n    'open': [{'renderedTime': '8:00 AM\u20139:00 AM'},\n     {'renderedTime': '11:00 AM\u20132:00 PM'},\n     {'renderedTime': '4:00 PM\u20137:00 PM'}],\n    'segments': []}]},\n 'rating': 8.3,\n 'ratingColor': '73CF42',\n 'ratingSignals': 22,\n 'reasons': {'count': 0, 'items': []},\n 'shortUrl': 'http://4sq.com/1UaRxpn',\n 'specials': {'count': 0, 'items': []},\n 'stats': {'tipCount': 2},\n 'timeZone': 'America/New_York',\n 'tips': {'count': 2,\n  'groups': [{'count': 2,\n    'items': [{'agreeCount': 0,\n      'authorInteractionType': 'liked',\n      'canonicalUrl': 'https://foursquare.com/item/5816686238fa301a9687f070',\n      'createdAt': 1477863522,\n      'disagreeCount': 0,\n      'id': '5816686238fa301a9687f070',\n      'lang': 'en',\n      'likes': {'count': 0, 'groups': []},\n      'logView': True,\n      'text': 'New location in Soho is a bit temporary feeling, but once you get past the floorboards bouncing underneath your feet in the ring, the class is bound to kick your butt.',\n      'todo': {'count': 0},\n      'type': 'user',\n      'user': {'firstName': 'Lucie',\n       'gender': 'female',\n       'id': '48345869',\n       'lastName': 'Pustova',\n       'photo': {'prefix': 'https://fastly.4sqi.net/img/user/',\n        'suffix': '/48345869-JNBW0PXJVTZ5N4PK.jpg'}}}],\n    'name': 'All tips',\n    'type': 'others'}]},\n 'verified': False}"
                    }, 
                    "output_type": "execute_result"
                }
            ], 
            "source": "result = requests.get(url).json()\nprint(result['response']['venue'].keys())\nresult['response']['venue']"
        }, 
        {
            "source": "Lets now see ratings on the gym", 
            "cell_type": "markdown", 
            "metadata": {}
        }, 
        {
            "execution_count": 37, 
            "cell_type": "code", 
            "metadata": {}, 
            "outputs": [
                {
                    "output_type": "stream", 
                    "name": "stdout", 
                    "text": "8.3\n"
                }
            ], 
            "source": "try:\n    print(result['response']['venue']['rating'])\nexcept:\n    print('This venue has not been rated yet.')"
        }, 
        {
            "source": "This is a good rating. lets check the ratings of the other gyms to compare our options. ", 
            "cell_type": "markdown", 
            "metadata": {}
        }, 
        {
            "execution_count": 38, 
            "cell_type": "code", 
            "metadata": {}, 
            "outputs": [
                {
                    "output_type": "stream", 
                    "name": "stdout", 
                    "text": "7.6\n"
                }
            ], 
            "source": "venue_id = '42829c80f964a52032221fe3' # ID of GYM Sportsbar\nurl = 'https://api.foursquare.com/v2/venues/{}?client_id={}&client_secret={}&v={}'.format(venue_id, CLIENT_ID, CLIENT_SECRET, VERSION)\n\nresult = requests.get(url).json()\ntry:\n    print(result['response']['venue']['rating'])\nexcept:\n    print('This venue has not been rated yet.')"
        }, 
        {
            "execution_count": 39, 
            "cell_type": "code", 
            "metadata": {}, 
            "outputs": [
                {
                    "output_type": "stream", 
                    "name": "stdout", 
                    "text": "This venue has not been rated yet.\n"
                }
            ], 
            "source": "venue_id = '50fdd8e9e4b0c9eebd272ee9' # ID of Gym @ St. John's\nurl = 'https://api.foursquare.com/v2/venues/{}?client_id={}&client_secret={}&v={}'.format(venue_id, CLIENT_ID, CLIENT_SECRET, VERSION)\n\nresult = requests.get(url).json()\ntry:\n    print(result['response']['venue']['rating'])\nexcept:\n    print('This venue has not been rated yet.')"
        }, 
        {
            "execution_count": 40, 
            "cell_type": "code", 
            "metadata": {}, 
            "outputs": [
                {
                    "output_type": "stream", 
                    "name": "stdout", 
                    "text": "This venue has not been rated yet.\n"
                }
            ], 
            "source": "venue_id = '4fad804ee4b03d09569cb6b9' # The Gym @ Spruce Street School\nurl = 'https://api.foursquare.com/v2/venues/{}?client_id={}&client_secret={}&v={}'.format(venue_id, CLIENT_ID, CLIENT_SECRET, VERSION)\n\nresult = requests.get(url).json()\ntry:\n    print(result['response']['venue']['rating'])\nexcept:\n    print('This venue has not been rated yet.')"
        }, 
        {
            "execution_count": 41, 
            "cell_type": "code", 
            "metadata": {}, 
            "outputs": [
                {
                    "output_type": "stream", 
                    "name": "stdout", 
                    "text": "This venue has not been rated yet.\n"
                }
            ], 
            "source": "venue_id = '4c8f73d24e95236ac70084ca' # ID of Gym @ St. John's 2\nurl = 'https://api.foursquare.com/v2/venues/{}?client_id={}&client_secret={}&v={}'.format(venue_id, CLIENT_ID, CLIENT_SECRET, VERSION)\n\nresult = requests.get(url).json()\ntry:\n    print(result['response']['venue']['rating'])\nexcept:\n    print('This venue has not been rated yet.')"
        }, 
        {
            "source": "From our results, we see that three of the five gyms within a 2km radius of the LaGuardian Plaza where Mishelle is have not been rated yet. However, the closest to the plaza is one of the two that have been rated and the good news is the Gotham gym SoHo which is most close to the LaGuardian Plaza has the higher rating\n", 
            "cell_type": "markdown", 
            "metadata": {}
        }, 
        {
            "source": "Lets now explore the tips of the Gotham gym SoHo", 
            "cell_type": "markdown", 
            "metadata": {}
        }, 
        {
            "execution_count": 53, 
            "cell_type": "code", 
            "metadata": {}, 
            "outputs": [
                {
                    "execution_count": 53, 
                    "metadata": {}, 
                    "data": {
                        "text/plain": "dict_keys(['agreeCount', 'disagreeCount', 'lang', 'id', 'authorInteractionType', 'user', 'type', 'canonicalUrl', 'text', 'todo', 'createdAt', 'logView', 'likes'])"
                    }, 
                    "output_type": "execute_result"
                }
            ], 
            "source": "#result['response']['venue']['tips']['count']\nvenue_id = '575b2829498e77357d734a04'\nlimit = 15\nurl = 'https://api.foursquare.com/v2/venues/{}/tips?client_id={}&client_secret={}&v={}&limit={}'.format(venue_id, CLIENT_ID, CLIENT_SECRET, VERSION, limit)\nresults = requests.get(url).json()\ntips = results['response']['tips']['items']\ntip = results['response']['tips']['items'][0]\ntip.keys()"
        }, 
        {
            "execution_count": 57, 
            "cell_type": "code", 
            "metadata": {}, 
            "outputs": [
                {
                    "execution_count": 57, 
                    "metadata": {}, 
                    "data": {
                        "text/html": "<div>\n<style scoped>\n    .dataframe tbody tr th:only-of-type {\n        vertical-align: middle;\n    }\n\n    .dataframe tbody tr th {\n        vertical-align: top;\n    }\n\n    .dataframe thead th {\n        text-align: right;\n    }\n</style>\n<table border=\"1\" class=\"dataframe\">\n  <thead>\n    <tr style=\"text-align: right;\">\n      <th></th>\n      <th>text</th>\n      <th>agreeCount</th>\n      <th>disagreeCount</th>\n      <th>id</th>\n      <th>user.firstName</th>\n      <th>user.lastName</th>\n      <th>user.gender</th>\n      <th>user.id</th>\n    </tr>\n  </thead>\n  <tbody>\n    <tr>\n      <th>0</th>\n      <td>New location in Soho is a bit temporary feeling, but once you get past the floorboards bouncing underneath your feet in the ring, the class is bound to kick your butt.</td>\n      <td>0</td>\n      <td>0</td>\n      <td>5816686238fa301a9687f070</td>\n      <td>Lucie</td>\n      <td>Pustova</td>\n      <td>female</td>\n      <td>48345869</td>\n    </tr>\n  </tbody>\n</table>\n</div>", 
                        "text/plain": "                                                                                                                                                                      text  \\\n0  New location in Soho is a bit temporary feeling, but once you get past the floorboards bouncing underneath your feet in the ring, the class is bound to kick your butt.   \n\n   agreeCount  disagreeCount                        id user.firstName  \\\n0  0           0              5816686238fa301a9687f070  Lucie           \n\n  user.lastName user.gender   user.id  \n0  Pustova       female      48345869  "
                    }, 
                    "output_type": "execute_result"
                }
            ], 
            "source": "pd.set_option('display.max_colwidth', -1)\n\ntips_df = json_normalize(tips) # json normalize tips\n\n# columns to keep\nfiltered_columns = ['text', 'agreeCount', 'disagreeCount', 'id', 'user.firstName', 'user.lastName', 'user.gender', 'user.id']\ntips_filtered = tips_df.loc[:, filtered_columns]\n\n# display tips\ntips_filtered"
        }, 
        {
            "execution_count": 62, 
            "cell_type": "code", 
            "metadata": {}, 
            "outputs": [
                {
                    "execution_count": 62, 
                    "metadata": {}, 
                    "data": {
                        "text/plain": "dict_keys(['agreeCount', 'type', 'disagreeCount', 'lang', 'lastVoteText', 'lastUpvoteTimestamp', 'photourl', 'user', 'photo', 'canonicalUrl', 'text', 'todo', 'createdAt', 'id', 'logView', 'likes'])"
                    }, 
                    "output_type": "execute_result"
                }
            ], 
            "source": "venue_id = '42829c80f964a52032221fe3' # ID of GYM Sportsbar\nlimit = 15\nurl = 'https://api.foursquare.com/v2/venues/{}/tips?client_id={}&client_secret={}&v={}&limit={}'.format(venue_id, CLIENT_ID, CLIENT_SECRET, VERSION, limit)\nresults = requests.get(url).json()\ntips2 = results['response']['tips']['items']\ntip2 = results['response']['tips']['items'][0]\ntip2.keys()"
        }, 
        {
            "execution_count": 69, 
            "cell_type": "code", 
            "metadata": {}, 
            "outputs": [
                {
                    "output_type": "stream", 
                    "name": "stderr", 
                    "text": "/opt/conda/envs/DSX-Python35/lib/python3.5/site-packages/ipykernel/__main__.py:7: FutureWarning: \nPassing list-likes to .loc or [] with any missing label will raise\nKeyError in the future, you can use .reindex() as an alternative.\n\nSee the documentation here:\nhttp://pandas.pydata.org/pandas-docs/stable/indexing.html#deprecate-loc-reindex-listlike\n/opt/conda/envs/DSX-Python35/lib/python3.5/site-packages/pandas/core/indexing.py:1367: FutureWarning: \nPassing list-likes to .loc or [] with any missing label will raise\nKeyError in the future, you can use .reindex() as an alternative.\n\nSee the documentation here:\nhttp://pandas.pydata.org/pandas-docs/stable/indexing.html#deprecate-loc-reindex-listlike\n  return self._getitem_tuple(key)\n"
                }, 
                {
                    "execution_count": 69, 
                    "metadata": {}, 
                    "data": {
                        "text/html": "<div>\n<style scoped>\n    .dataframe tbody tr th:only-of-type {\n        vertical-align: middle;\n    }\n\n    .dataframe tbody tr th {\n        vertical-align: top;\n    }\n\n    .dataframe thead th {\n        text-align: right;\n    }\n</style>\n<table border=\"1\" class=\"dataframe\">\n  <thead>\n    <tr style=\"text-align: right;\">\n      <th></th>\n      <th>text</th>\n      <th>agreeCount</th>\n      <th>disagreeCount</th>\n      <th>id</th>\n      <th>user.firstName</th>\n      <th>user.lastName</th>\n      <th>user.gender</th>\n      <th>user.id</th>\n    </tr>\n  </thead>\n  <tbody>\n    <tr>\n      <th>0</th>\n      <td>Friendly gay sports bar with 2-4-1 happy hour until 9pm.  If it\u2019s open, go downstairs to the Locker Room for a pick-up game of Flip Cup.</td>\n      <td>4</td>\n      <td>0</td>\n      <td>4cff6c76506d6a31f1ab1e86</td>\n      <td>The Corcoran Group</td>\n      <td>NaN</td>\n      <td>none</td>\n      <td>95423</td>\n    </tr>\n  </tbody>\n</table>\n</div>", 
                        "text/plain": "                                                                                                                                       text  \\\n0  Friendly gay sports bar with 2-4-1 happy hour until 9pm.  If it\u2019s open, go downstairs to the Locker Room for a pick-up game of Flip Cup.   \n\n   agreeCount  disagreeCount                        id      user.firstName  \\\n0  4           0              4cff6c76506d6a31f1ab1e86  The Corcoran Group   \n\n   user.lastName user.gender user.id  \n0 NaN             none        95423   "
                    }, 
                    "output_type": "execute_result"
                }
            ], 
            "source": "pd.set_option('display.max_colwidth', -1)\n\ntips2_df = json_normalize(tips2) # json normalize tips\n\n# columns to keep\nfiltered_columns = ['text', 'agreeCount', 'disagreeCount', 'id', 'user.firstName', 'user.lastName', 'user.gender', 'user.id']\ntips2_filtered = tips2_df.loc[:, filtered_columns]\n\n# display tips\ntips2_filtered"
        }, 
        {
            "execution_count": null, 
            "cell_type": "code", 
            "metadata": {}, 
            "outputs": [], 
            "source": ""
        }, 
        {
            "execution_count": null, 
            "cell_type": "code", 
            "metadata": {}, 
            "outputs": [], 
            "source": ""
        }, 
        {
            "source": "## Result", 
            "cell_type": "markdown", 
            "metadata": {}
        }, 
        {
            "source": "Of the 5 gym (Gym Sportsbar, Gym @ St. Johns, Gotham Gym Solo, Gym at St. Johns2 and The Gym @ Spruce Street School) identified by by foursquare to be within a 2km radius of the LaGuardian plaza, we have in an order of proximity to the LaGuardian: Gotham Gym Solo, Gym @ St. Johns, Gym at St. Johns2, The Gym @ Spruce Street School, Gym Sportsbar.\nOnly 2 of the five gyms have ratings. These are the Gym Sportsbar with arating of 7.6, and the Gotham Gym Soho with a higher rating of 8.3.\nEach of these 2 gyms have only one tip from users of the gym. Seems like the Gotham Gym Soho is a new location but the class is bouund to \"kick butt\" according to Lucie Pustova. The tip on the Gotham Gym Soho has no agree or disagree count. The tip on the Gym Sportsbar opens up a new light that indicates that the Gym Sportsbar is a gay sports bar which is highly recomended by the way and has an agree count of 4 with no disagree count.", 
            "cell_type": "markdown", 
            "metadata": {}
        }, 
        {
            "source": "## Discussion", 
            "cell_type": "markdown", 
            "metadata": {}
        }, 
        {
            "execution_count": null, 
            "cell_type": "code", 
            "metadata": {}, 
            "outputs": [], 
            "source": "Given or results above, a good recommendation to Mishelle would be the Gotham Gym Soho. It is closest to the "
        }
    ], 
    "metadata": {
        "kernelspec": {
            "display_name": "Python 3.5", 
            "name": "python3", 
            "language": "python"
        }, 
        "language_info": {
            "mimetype": "text/x-python", 
            "nbconvert_exporter": "python", 
            "version": "3.5.5", 
            "name": "python", 
            "file_extension": ".py", 
            "pygments_lexer": "ipython3", 
            "codemirror_mode": {
                "version": 3, 
                "name": "ipython"
            }
        }
    }, 
    "nbformat": 4
}