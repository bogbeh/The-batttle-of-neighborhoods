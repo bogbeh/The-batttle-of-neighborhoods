{
    "nbformat_minor": 1, 
    "cells": [
        {
            "source": "## A description of the problem and a discussion of the background.", 
            "cell_type": "markdown", 
            "metadata": {
                "collapsed": true
            }
        }, 
        {
            "source": "Mishelle's Company sent her on a job to Abuja, Nigeria and have reserved an accomodation for her at the Hilton Hotels and Resort. She is currently on a fittness challenge and would like to see it through. The problem is to locate a gym fairly close to Mishelle, and which has standard facilities.", 
            "cell_type": "markdown", 
            "metadata": {}
        }, 
        {
            "source": "## A description of how to solve the problem", 
            "cell_type": "markdown", 
            "metadata": {}
        }, 
        {
            "source": "First of all, we import the necessary libraries that we need to solve the solve the problem such as numpy, pamdas, follium, requests... We would be calling on foursquare APIs.\nNext we use geocode to find the address the Hilton Hotels and Resorts on the map (i.e; its longlitude and latitude) after defining our foursquare credentials ofcourse. Then we search for nearby gyms, and recomend the gym with the most ratings to Mishelle, giving her its location.", 
            "cell_type": "markdown", 
            "metadata": {}
        }, 
        {
            "source": "##### Importing Libraries", 
            "cell_type": "markdown", 
            "metadata": {}
        }, 
        {
            "execution_count": 19, 
            "cell_type": "code", 
            "metadata": {}, 
            "outputs": [
                {
                    "output_type": "stream", 
                    "name": "stdout", 
                    "text": "Fetching package metadata .............\nSolving package specifications: .\n\n# All requested packages already installed.\n# packages in environment at /opt/conda/envs/DSX-Python35:\n#\ngeopy                     1.17.0                     py_0    conda-forge\nFetching package metadata .............\nSolving package specifications: .\n\n# All requested packages already installed.\n# packages in environment at /opt/conda/envs/DSX-Python35:\n#\nfolium                    0.5.0                      py_0    conda-forge\nFolium installed\nLibraries imported.\n"
                }
            ], 
            "source": "!conda install -c conda-forge geopy --yes \nfrom geopy.geocoders import Nominatim # module to convert an address into latitude and longitude values\nimport requests # library to handle requests\nimport pandas as pd # library for data analsysis\nimport numpy as np # library to handle data in a vectorized manner\nimport random # library for random number generation\n\n# libraries for displaying images\nfrom IPython.display import Image \nfrom IPython.core.display import HTML \n    \n# tranforming json file into a pandas dataframe library\nfrom pandas.io.json import json_normalize\n\n!conda install -c conda-forge folium=0.5.0 --yes\nimport folium # plotting library\n\nprint('Folium installed')\nprint('Libraries imported.')"
        }, 
        {
            "source": "##### We now define our foursquare credentials", 
            "cell_type": "markdown", 
            "metadata": {}
        }, 
        {
            "execution_count": 20, 
            "cell_type": "code", 
            "metadata": {}, 
            "outputs": [
                {
                    "output_type": "stream", 
                    "name": "stdout", 
                    "text": "Your credentails:\nCLIENT_ID: SKY2YBFEUQBP02SSF0VJKFSIBNVJLOAN142JND1AJ2RU0VFC\nCLIENT_SECRET:OZB1WLGWPZNAODYSHSTYGPESUBCILV0HN00QZE4LRPYYK0D1\n"
                }
            ], 
            "source": "CLIENT_ID = 'SKY2YBFEUQBP02SSF0VJKFSIBNVJLOAN142JND1AJ2RU0VFC' # your Foursquare ID\nCLIENT_SECRET = 'OZB1WLGWPZNAODYSHSTYGPESUBCILV0HN00QZE4LRPYYK0D1' # your Foursquare Secret\nVERSION = '20180604'\nLIMIT = 30\nprint('Your credentails:')\nprint('CLIENT_ID: ' + CLIENT_ID)\nprint('CLIENT_SECRET:' + CLIENT_SECRET)"
        }, 
        {
            "source": "##### Getting the Latitude and Longitude values of the Hilton Hotels and  Resorts", 
            "cell_type": "markdown", 
            "metadata": {}
        }, 
        {
            "execution_count": 21, 
            "cell_type": "code", 
            "metadata": {}, 
            "outputs": [
                {
                    "output_type": "stream", 
                    "name": "stdout", 
                    "text": "9.0819482 7.490408\n"
                }
            ], 
            "source": "address = '1 AGUIYI IRONSI STREET MAITAMA, ABUJA, 900001, NIGERIA'\n\ngeolocator = Nominatim(user_agent=\"my-application\")\nlocation = geolocator.geocode(address)\nlatitude = location.latitude\nlongitude = location.longitude\nprint(latitude, longitude)"
        }, 
        {
            "source": "##### passing a search query to foursquare for nearby gyms", 
            "cell_type": "markdown", 
            "metadata": {}
        }, 
        {
            "execution_count": 25, 
            "cell_type": "code", 
            "metadata": {}, 
            "outputs": [
                {
                    "output_type": "stream", 
                    "name": "stdout", 
                    "text": "Gyms .... OK!\n"
                }
            ], 
            "source": "search_query = 'Gyms'\nradius = 5000\nprint(search_query + ' .... OK!')"
        }, 
        {
            "source": "##### Defining url", 
            "cell_type": "markdown", 
            "metadata": {}
        }, 
        {
            "execution_count": 26, 
            "cell_type": "code", 
            "metadata": {}, 
            "outputs": [
                {
                    "execution_count": 26, 
                    "metadata": {}, 
                    "data": {
                        "text/plain": "'https://api.foursquare.com/v2/venues/search?client_id=SKY2YBFEUQBP02SSF0VJKFSIBNVJLOAN142JND1AJ2RU0VFC&client_secret=OZB1WLGWPZNAODYSHSTYGPESUBCILV0HN00QZE4LRPYYK0D1&ll=9.0819482,7.490408&v=20180604&query=Gyms&radius=5000&limit=30'"
                    }, 
                    "output_type": "execute_result"
                }
            ], 
            "source": "url = 'https://api.foursquare.com/v2/venues/search?client_id={}&client_secret={}&ll={},{}&v={}&query={}&radius={}&limit={}'.format(CLIENT_ID, CLIENT_SECRET, latitude, longitude, VERSION, search_query, radius, LIMIT)\nurl"
        }, 
        {
            "source": "##### Getting results", 
            "cell_type": "markdown", 
            "metadata": {}
        }, 
        {
            "execution_count": 27, 
            "cell_type": "code", 
            "metadata": {}, 
            "outputs": [
                {
                    "execution_count": 27, 
                    "metadata": {}, 
                    "data": {
                        "text/plain": "{'meta': {'code': 200, 'requestId': '5c0b84d14c1f671905c23372'},\n 'response': {'venues': [{'categories': [{'icon': {'prefix': 'https://ss3.4sqi.net/img/categories_v2/shops/sports_outdoors_',\n       'suffix': '.png'},\n      'id': '4f4528bc4b90abdf24c9de85',\n      'name': 'Athletics & Sports',\n      'pluralName': 'Athletics & Sports',\n      'primary': True,\n      'shortName': 'Athletics & Sports'}],\n    'hasPerk': False,\n    'id': '523b34b311d22a9a911d62cc',\n    'location': {'address': 'Wuse 2',\n     'cc': 'NG',\n     'city': 'Abuja',\n     'country': 'Nigeria',\n     'distance': 1882,\n     'formattedAddress': ['Wuse 2',\n      'Abuja',\n      'Federal Capital Territory',\n      'Nigeria'],\n     'labeledLatLngs': [{'label': 'display',\n       'lat': 9.078092691288381,\n       'lng': 7.473729727941876}],\n     'lat': 9.078092691288381,\n     'lng': 7.473729727941876,\n     'state': 'Federal Capital Territory'},\n    'name': 'Gym Sigma Apartments',\n    'referralId': 'v-1544258769'}]}}"
                    }, 
                    "output_type": "execute_result"
                }
            ], 
            "source": "results = requests.get(url).json()\nresults"
        }, 
        {
            "source": "#####  Transfering relevant part of  JSON file into a pandas dataframe ", 
            "cell_type": "markdown", 
            "metadata": {}
        }, 
        {
            "execution_count": 28, 
            "cell_type": "code", 
            "metadata": {}, 
            "outputs": [
                {
                    "execution_count": 28, 
                    "metadata": {}, 
                    "data": {
                        "text/html": "<div>\n<style scoped>\n    .dataframe tbody tr th:only-of-type {\n        vertical-align: middle;\n    }\n\n    .dataframe tbody tr th {\n        vertical-align: top;\n    }\n\n    .dataframe thead th {\n        text-align: right;\n    }\n</style>\n<table border=\"1\" class=\"dataframe\">\n  <thead>\n    <tr style=\"text-align: right;\">\n      <th></th>\n      <th>categories</th>\n      <th>hasPerk</th>\n      <th>id</th>\n      <th>location.address</th>\n      <th>location.cc</th>\n      <th>location.city</th>\n      <th>location.country</th>\n      <th>location.distance</th>\n      <th>location.formattedAddress</th>\n      <th>location.labeledLatLngs</th>\n      <th>location.lat</th>\n      <th>location.lng</th>\n      <th>location.state</th>\n      <th>name</th>\n      <th>referralId</th>\n    </tr>\n  </thead>\n  <tbody>\n    <tr>\n      <th>0</th>\n      <td>[{'shortName': 'Athletics &amp; Sports', 'id': '4f...</td>\n      <td>False</td>\n      <td>523b34b311d22a9a911d62cc</td>\n      <td>Wuse 2</td>\n      <td>NG</td>\n      <td>Abuja</td>\n      <td>Nigeria</td>\n      <td>1882</td>\n      <td>[Wuse 2, Abuja, Federal Capital Territory, Nig...</td>\n      <td>[{'lat': 9.078092691288381, 'label': 'display'...</td>\n      <td>9.078093</td>\n      <td>7.47373</td>\n      <td>Federal Capital Territory</td>\n      <td>Gym Sigma Apartments</td>\n      <td>v-1544258769</td>\n    </tr>\n  </tbody>\n</table>\n</div>", 
                        "text/plain": "                                          categories  hasPerk  \\\n0  [{'shortName': 'Athletics & Sports', 'id': '4f...    False   \n\n                         id location.address location.cc location.city  \\\n0  523b34b311d22a9a911d62cc           Wuse 2          NG         Abuja   \n\n  location.country  location.distance  \\\n0          Nigeria               1882   \n\n                           location.formattedAddress  \\\n0  [Wuse 2, Abuja, Federal Capital Territory, Nig...   \n\n                             location.labeledLatLngs  location.lat  \\\n0  [{'lat': 9.078092691288381, 'label': 'display'...      9.078093   \n\n   location.lng             location.state                  name    referralId  \n0       7.47373  Federal Capital Territory  Gym Sigma Apartments  v-1544258769  "
                    }, 
                    "output_type": "execute_result"
                }
            ], 
            "source": "# assign relevant part of JSON to venues\nvenues = results['response']['venues']\n\n# tranform venues into a dataframe\ndataframe = json_normalize(venues)\ndataframe.head()"
        }, 
        {
            "source": "Unfortunately, there are not many gyms near Mishelle, but there is one at wuse which is fairly close to her.", 
            "cell_type": "markdown", 
            "metadata": {}
        }, 
        {
            "execution_count": null, 
            "cell_type": "code", 
            "metadata": {}, 
            "outputs": [], 
            "source": ""
        }
    ], 
    "metadata": {
        "kernelspec": {
            "display_name": "Python 3.5", 
            "name": "python3", 
            "language": "python"
        }, 
        "language_info": {
            "mimetype": "text/x-python", 
            "nbconvert_exporter": "python", 
            "version": "3.5.5", 
            "name": "python", 
            "file_extension": ".py", 
            "pygments_lexer": "ipython3", 
            "codemirror_mode": {
                "version": 3, 
                "name": "ipython"
            }
        }
    }, 
    "nbformat": 4
}